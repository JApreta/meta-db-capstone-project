{
 "cells": [
  {
   "cell_type": "code",
   "execution_count": 2,
   "id": "5d76ff4b-3baf-49dc-95c4-3e8a957d951e",
   "metadata": {},
   "outputs": [
    {
     "name": "stdout",
     "output_type": "stream",
     "text": [
      "Requirement already satisfied: mysql-connector-python in c:\\users\\judit\\appdata\\local\\programs\\python\\python38\\lib\\site-packages (8.1.0)\n",
      "Requirement already satisfied: protobuf<=4.21.12,>=4.21.1 in c:\\users\\judit\\appdata\\local\\programs\\python\\python38\\lib\\site-packages (from mysql-connector-python) (4.21.12)\n"
     ]
    }
   ],
   "source": [
    "!pip install mysql-connector-python"
   ]
  },
  {
   "cell_type": "code",
   "execution_count": 27,
   "id": "75ed2d03-04ed-4c5b-8011-0f5b3323a46d",
   "metadata": {},
   "outputs": [],
   "source": [
    "import mysql.connector as connector\n",
    "\n",
    "connection = connector.connect(user = \"preta\", password = \"/@2&nUt43yrH$2L22\", db = \"littlelemondb\") "
   ]
  },
  {
   "cell_type": "code",
   "execution_count": 28,
   "id": "97c5d3f5-22bb-4dd0-ae08-260ed940c517",
   "metadata": {},
   "outputs": [],
   "source": [
    "cursor = connection.cursor()"
   ]
  },
  {
   "cell_type": "code",
   "execution_count": 21,
   "id": "87ab5a57-283f-4d5f-9d8e-56057f9b62c3",
   "metadata": {},
   "outputs": [],
   "source": [
    "cursor.execute(\"use littlelemondb\" )"
   ]
  },
  {
   "cell_type": "code",
   "execution_count": 22,
   "id": "87ebc612-42c1-4fd2-8eb5-c7a427c5c4a5",
   "metadata": {},
   "outputs": [],
   "source": [
    "show_tables_query = \"show tables\" \n",
    "cursor.execute(show_tables_query)"
   ]
  },
  {
   "cell_type": "code",
   "execution_count": 23,
   "id": "6c19edd6-dbaa-43be-860a-cfc51d36ad22",
   "metadata": {},
   "outputs": [
    {
     "name": "stdout",
     "output_type": "stream",
     "text": [
      "[('bookings',), ('customers',), ('menu',), ('morethan150ordersview',), ('morethan2ordersview',), ('order_delivery_status',), ('orders',), ('orders_has_menu',), ('ordersview',), ('staff',)]\n"
     ]
    }
   ],
   "source": [
    "results= cursor.fetchall()\n",
    "print(results)"
   ]
  },
  {
   "cell_type": "code",
   "execution_count": 29,
   "id": "27d4a108-3cf3-470d-bc62-595eeed2a42c",
   "metadata": {},
   "outputs": [
    {
     "name": "stdout",
     "output_type": "stream",
     "text": [
      "Full Name: Jane Smith, Contact Number: 987-654-3210, Total Cost: 120.75\n"
     ]
    }
   ],
   "source": [
    "\n",
    "\n",
    "query = \"\"\"\n",
    "    SELECT Customers.fullName, Customers.contactNumber, Orders.totalCost\n",
    "    FROM Customers\n",
    "    JOIN Orders ON Customers.customerID = Orders.customerID\n",
    "    WHERE Orders.totalCost > 60\n",
    "    \"\"\"\n",
    "# Execute the query\n",
    "cursor.execute(query)\n",
    "\n",
    "# Fetch all the rows\n",
    "results = cursor.fetchall()\n",
    "\n",
    "# Display the results\n",
    "for row in results:\n",
    "    full_name = row[0]\n",
    "    contact_number = row[1]\n",
    "    total_cost = row[2]\n",
    "    print(f\"Full Name: {full_name}, Contact Number: {contact_number}, Total Cost: {total_cost}\")\n",
    "\n",
    "# Close the cursor and database connection\n",
    "cursor.close()\n",
    "connection.close()\n"
   ]
  },
  {
   "cell_type": "code",
   "execution_count": null,
   "id": "c8573255-0857-4a41-93e0-589ea6aa5c45",
   "metadata": {},
   "outputs": [],
   "source": []
  }
 ],
 "metadata": {
  "kernelspec": {
   "display_name": "Python 3 (ipykernel)",
   "language": "python",
   "name": "python3"
  },
  "language_info": {
   "codemirror_mode": {
    "name": "ipython",
    "version": 3
   },
   "file_extension": ".py",
   "mimetype": "text/x-python",
   "name": "python",
   "nbconvert_exporter": "python",
   "pygments_lexer": "ipython3",
   "version": "3.8.10"
  }
 },
 "nbformat": 4,
 "nbformat_minor": 5
}
